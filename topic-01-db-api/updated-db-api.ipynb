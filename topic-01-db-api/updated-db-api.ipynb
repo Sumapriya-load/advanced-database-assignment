{
 "cells": [
  {
   "cell_type": "code",
   "execution_count": 18,
   "metadata": {},
   "outputs": [
    {
     "name": "stdout",
     "output_type": "stream",
     "text": [
      "Database connected successfully!\n"
     ]
    }
   ],
   "source": [
    "import sqlite3\n",
    "\n",
    "# Establish a connection to the SQLite database\n",
    "connection = sqlite3.connect(\"pets.db\")\n",
    "cursor = connection.cursor()\n",
    "print(\"Database connected successfully!\")\n"
   ]
  },
  {
   "cell_type": "code",
   "execution_count": 19,
   "metadata": {},
   "outputs": [
    {
     "name": "stdout",
     "output_type": "stream",
     "text": [
      "Tables created successfully!\n"
     ]
    }
   ],
   "source": [
    "# Create the 'kind' table\n",
    "cursor.execute(\"\"\"\n",
    "    CREATE TABLE IF NOT EXISTS kind (\n",
    "        id INTEGER PRIMARY KEY AUTOINCREMENT,\n",
    "        type TEXT NOT NULL UNIQUE\n",
    "    )\n",
    "\"\"\")\n",
    "\n",
    "# Create the 'pet' table with a foreign key reference to 'kind'\n",
    "cursor.execute(\"\"\"\n",
    "    CREATE TABLE IF NOT EXISTS pet (\n",
    "        id INTEGER PRIMARY KEY AUTOINCREMENT,\n",
    "        name TEXT NOT NULL,\n",
    "        kind_id INTEGER NOT NULL,\n",
    "        age INTEGER,\n",
    "        owner TEXT,\n",
    "        FOREIGN KEY (kind_id) REFERENCES kind(id)\n",
    "    )\n",
    "\"\"\")\n",
    "\n",
    "# Commit the changes\n",
    "connection.commit()\n",
    "print(\"Tables created successfully!\")\n"
   ]
  },
  {
   "cell_type": "code",
   "execution_count": 20,
   "metadata": {},
   "outputs": [
    {
     "name": "stdout",
     "output_type": "stream",
     "text": [
      "Pet types inserted into 'kind' table!\n"
     ]
    }
   ],
   "source": [
    "# Insert pet types into the 'kind' table\n",
    "pet_types = [(\"dog\",), (\"cat\",)]\n",
    "cursor.executemany(\"INSERT OR IGNORE INTO kind (type) VALUES (?)\", pet_types)\n",
    "\n",
    "# Commit the changes\n",
    "connection.commit()\n",
    "print(\"Pet types inserted into 'kind' table!\")\n"
   ]
  },
  {
   "cell_type": "code",
   "execution_count": 21,
   "metadata": {},
   "outputs": [
    {
     "name": "stdout",
     "output_type": "stream",
     "text": [
      "Pets inserted into 'pet' table!\n"
     ]
    }
   ],
   "source": [
    "# Fetch kind IDs for reference\n",
    "cursor.execute(\"SELECT id, type FROM kind\")\n",
    "kind_map = {kind: kind_id for kind_id, kind in cursor.fetchall()}\n",
    "\n",
    "# Insert pet records with foreign key references\n",
    "pets = [\n",
    "    (\"dorothy\", kind_map[\"dog\"], 9, \"greg\"),\n",
    "    (\"suzy\", kind_map[\"dog\"], 9, \"greg\"),\n",
    "    (\"casey\", kind_map[\"dog\"], 9, \"greg\"),\n",
    "    (\"heidi\", kind_map[\"dog\"], 9, \"greg\"),\n",
    "    (\"sandy\", kind_map[\"cat\"], 9, \"greg\"),\n",
    "    (\"muffin\", kind_map[\"cat\"], 9, \"greg\"),\n",
    "    (\"shadow\", kind_map[\"cat\"], 9, \"greg\"),\n",
    "]\n",
    "\n",
    "cursor.executemany(\"\"\"\n",
    "    INSERT INTO pet (name, kind_id, age, owner) \n",
    "    VALUES (?, ?, ?, ?)\n",
    "\"\"\", pets)\n",
    "\n",
    "# Commit the changes\n",
    "connection.commit()\n",
    "print(\"Pets inserted into 'pet' table!\")\n"
   ]
  },
  {
   "cell_type": "code",
   "execution_count": 22,
   "metadata": {},
   "outputs": [
    {
     "name": "stdout",
     "output_type": "stream",
     "text": [
      "Dogs in the database:\n",
      "(1, 'dorothy', 'dog', 9, 'greg')\n",
      "(2, 'suzy', 'dog', 9, 'greg')\n",
      "(3, 'casey', 'dog', 9, 'greg')\n",
      "(4, 'heidi', 'dog', 9, 'greg')\n",
      "(8, 'dorothy', 'dog', 9, 'greg')\n",
      "(9, 'suzy', 'dog', 9, 'greg')\n",
      "(10, 'casey', 'dog', 9, 'greg')\n",
      "(11, 'heidi', 'dog', 9, 'greg')\n",
      "(15, 'dorothy', 'dog', 9, 'greg')\n",
      "(16, 'suzy', 'dog', 9, 'greg')\n",
      "(17, 'casey', 'dog', 9, 'greg')\n",
      "(18, 'heidi', 'dog', 9, 'greg')\n"
     ]
    }
   ],
   "source": [
    "# Select all dogs using a JOIN\n",
    "cursor.execute(\"\"\"\n",
    "    SELECT pet.id, pet.name, kind.type, pet.age, pet.owner \n",
    "    FROM pet \n",
    "    JOIN kind ON pet.kind_id = kind.id \n",
    "    WHERE kind.type = ?\n",
    "\"\"\", (\"dog\",))\n",
    "\n",
    "# Fetch and display results\n",
    "rows = cursor.fetchall()\n",
    "print(\"Dogs in the database:\")\n",
    "for row in rows:\n",
    "    print(row)\n"
   ]
  },
  {
   "cell_type": "code",
   "execution_count": 23,
   "metadata": {},
   "outputs": [
    {
     "name": "stdout",
     "output_type": "stream",
     "text": [
      "Updated 'sandy' age to 11!\n",
      "Updated record: (19, 'sandy', 2, 11, 'greg')\n"
     ]
    }
   ],
   "source": [
    "# Update age of 'sandy'\n",
    "cursor.execute(\"\"\"\n",
    "    UPDATE pet \n",
    "    SET age = ? \n",
    "    WHERE name = ?\n",
    "\"\"\", (11, \"sandy\"))\n",
    "\n",
    "# Commit the changes\n",
    "connection.commit()\n",
    "print(\"Updated 'sandy' age to 11!\")\n",
    "\n",
    "# Verify the update\n",
    "cursor.execute(\"SELECT * FROM pet WHERE name = ?\", (\"sandy\",))\n",
    "print(\"Updated record:\", cursor.fetchone())\n"
   ]
  },
  {
   "cell_type": "code",
   "execution_count": 24,
   "metadata": {},
   "outputs": [
    {
     "name": "stdout",
     "output_type": "stream",
     "text": [
      "Deleted the first record in the 'pet' table!\n",
      "Remaining records in 'pet' table:\n",
      "(2, 'suzy', 1, 9, 'greg')\n",
      "(3, 'casey', 1, 9, 'greg')\n",
      "(4, 'heidi', 1, 9, 'greg')\n",
      "(8, 'dorothy', 1, 9, 'greg')\n",
      "(9, 'suzy', 1, 9, 'greg')\n",
      "(10, 'casey', 1, 9, 'greg')\n",
      "(11, 'heidi', 1, 9, 'greg')\n",
      "(15, 'dorothy', 1, 9, 'greg')\n",
      "(16, 'suzy', 1, 9, 'greg')\n",
      "(17, 'casey', 1, 9, 'greg')\n",
      "(18, 'heidi', 1, 9, 'greg')\n",
      "(19, 'sandy', 2, 11, 'greg')\n",
      "(20, 'muffin', 2, 9, 'greg')\n",
      "(21, 'shadow', 2, 9, 'greg')\n"
     ]
    }
   ],
   "source": [
    "# Delete the first record in the 'pet' table based on the lowest ID\n",
    "cursor.execute(\"\"\"\n",
    "    DELETE FROM pet \n",
    "    WHERE id = (SELECT MIN(id) FROM pet)\n",
    "\"\"\")\n",
    "\n",
    "# Commit the changes\n",
    "connection.commit()\n",
    "print(\"Deleted the first record in the 'pet' table!\")\n",
    "\n",
    "# Verify deletion\n",
    "cursor.execute(\"SELECT * FROM pet\")\n",
    "remaining_rows = cursor.fetchall()\n",
    "print(\"Remaining records in 'pet' table:\")\n",
    "for row in remaining_rows:\n",
    "    print(row)\n"
   ]
  },
  {
   "cell_type": "code",
   "execution_count": 25,
   "metadata": {},
   "outputs": [
    {
     "name": "stdout",
     "output_type": "stream",
     "text": [
      "Database connection closed!\n"
     ]
    }
   ],
   "source": [
    "# Close the database connection\n",
    "connection.close()\n",
    "print(\"Database connection closed!\")\n"
   ]
  }
 ],
 "metadata": {
  "kernelspec": {
   "display_name": "Python 3",
   "language": "python",
   "name": "python3"
  },
  "language_info": {
   "codemirror_mode": {
    "name": "ipython",
    "version": 3
   },
   "file_extension": ".py",
   "mimetype": "text/x-python",
   "name": "python",
   "nbconvert_exporter": "python",
   "pygments_lexer": "ipython3",
   "version": "3.12.1"
  }
 },
 "nbformat": 4,
 "nbformat_minor": 2
}
